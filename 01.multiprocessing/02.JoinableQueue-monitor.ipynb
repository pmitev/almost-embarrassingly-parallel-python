{
 "cells": [
  {
   "cell_type": "code",
   "execution_count": 1,
   "id": "8e8426f9",
   "metadata": {
    "ExecuteTime": {
     "end_time": "2022-06-07T14:25:08.410364Z",
     "start_time": "2022-06-07T14:24:47.429940Z"
    },
    "scrolled": true
   },
   "outputs": [
    {
     "name": "stdout",
     "output_type": "stream",
     "text": [
      "Running HH:MM: 0:00    Done: 100/100  s/frame*worker: 1.03s   ETA: 0:00s   \r"
     ]
    }
   ],
   "source": [
    "import numpy as np\n",
    "import matplotlib.pyplot as plt\n",
    "from time import sleep, time\n",
    "from multiprocessing import Process, JoinableQueue, Value\n",
    "import os\n",
    "\n",
    "n= 50; m=100;            # Shape of the data input\n",
    "frames= 100;               # Number of data inputs to generate\n",
    "N_workers= 5;            # Numbers of instances to work on the analysis\n",
    "\n",
    "\n",
    "\n",
    "# Simple analysis\n",
    "def analyze(todo, done):\n",
    "    while True:\n",
    "        data= todo.get();\n",
    "        sums= np.zeros(data.shape[0]);\n",
    "        for i in range(data.shape[0]):\n",
    "            sum= 0;\n",
    "            for j in range(data.shape[1]):\n",
    "                sum= sum + data[i,j];\n",
    "            sums[i]= sum;\n",
    "        sleep(1);         # Let's slow it down artificially\n",
    "        #print('## Debug:' + str(os.getpid()) + ' analyze done\\n',flush=True);\n",
    "        done.put(sums);   # Instead of returning - put the result in the done queue\n",
    "        todo.task_done(); # Signal that the task is done\n",
    "\n",
    "    \n",
    "# Define two queues todo and done\n",
    "todo = JoinableQueue();\n",
    "done = JoinableQueue();\n",
    "processes = [];          # List to keep track of created processes, to be terminated at the end\n",
    "frame= Value('i',0);\n",
    "\n",
    "\n",
    "\n",
    "def collect_data(frame, done):\n",
    "    count= 0;\n",
    "    histograms= np.zeros(n); # Accumulate the partial results\n",
    "    start= time();\n",
    "    \n",
    "    while True:\n",
    "        taskC= done.get();\n",
    "        if (len(taskC) == 0):\n",
    "            np.save(\"analized\",histograms);\n",
    "            done.task_done();\n",
    "            break\n",
    "            \n",
    "        count += 1;\n",
    "        histograms= histograms + taskC;\n",
    "        \n",
    "        if count%1 == 0:\n",
    "            now= time(); T= now-start; perf= T/count*N_workers; eta= perf*(frame.value-count)/N_workers\n",
    "            H= int(T/3600); M= int((T-H*3600)/60); S= int()\n",
    "            print ('Running HH:MM: {}:{:02d}    Done: {}/{}  s/frame*worker: {:.2f}s   ETA: {}:{:02d}s   \\r'\n",
    "                   .format(H, M, count, frame.value, perf, int(eta/60), int(eta % 60) ) , end='')\n",
    "            \n",
    "        if count%10 == 0:\n",
    "            np.save(\"analized\",histograms);\n",
    "        done.task_done()\n",
    "        \n",
    "        \n",
    "# Define and start processes =================================\n",
    "for w in range(N_workers):\n",
    "    p= Process(name=\"p\"+str(w), target=analyze, args=(todo, done));\n",
    "    processes.append(p); # Append to the process tracking list\n",
    "    p.start();           # Start the defined process\n",
    "    \n",
    "pm= Process(name=\"monitor\", target= collect_data, args=(frame, done))\n",
    "pm.start()\n",
    "    \n",
    "    \n",
    "# Generate random data, analyze, and collect\n",
    "for i in range(frames):\n",
    "    todo.put(np.random.rand(n,m));\n",
    "    frame.value = frame.value + 1;\n",
    "    sleep(0.1); # pretend we are slow to read/fetch/prepare data\n",
    "todo.close();\n",
    "    \n",
    "\n",
    "# Wait for the workers to finish the todo and done queues ====\n",
    "todo.join();\n",
    "done.join();\n",
    "\n",
    "# kill the processes\n",
    "for p in processes:\n",
    "    p.kill()\n",
    "pm.kill()\n",
    "    \n",
    "# Plot the result\n",
    "#plt.hist(histograms/frames, bins='auto', alpha=0.8 ,rwidth=0.85);"
   ]
  },
  {
   "cell_type": "code",
   "execution_count": 2,
   "id": "2d5b139b",
   "metadata": {
    "ExecuteTime": {
     "end_time": "2022-06-07T14:25:08.502494Z",
     "start_time": "2022-06-07T14:25:08.412048Z"
    }
   },
   "outputs": [
    {
     "data": {
      "image/png": "[encoded data removed]",
      "text/plain": [
       "<Figure size 432x288 with 1 Axes>"
      ]
     },
     "metadata": {
      "needs_background": "light"
     },
     "output_type": "display_data"
    }
   ],
   "source": [
    "histograms_from_file= np.load(\"analized.npy\")\n",
    "plt.hist(histograms_from_file/frames, bins='auto', alpha=0.8 ,rwidth=0.85);"
   ]
  },
  {
   "cell_type": "code",
   "execution_count": 3,
   "id": "29e1405b",
   "metadata": {
    "ExecuteTime": {
     "end_time": "2022-06-07T14:25:08.505562Z",
     "start_time": "2022-06-07T14:25:08.503519Z"
    }
   },
   "outputs": [
    {
     "name": "stdout",
     "output_type": "stream",
     "text": [
      "False 0\n"
     ]
    }
   ],
   "source": [
    "print(pm.is_alive(), done.qsize())"
   ]
  },
  {
   "cell_type": "code",
   "execution_count": null,
   "id": "24870c44",
   "metadata": {},
   "outputs": [],
   "source": []
  },
  {
   "cell_type": "code",
   "execution_count": null,
   "id": "ad9ee83b",
   "metadata": {},
   "outputs": [],
   "source": []
  },
  {
   "cell_type": "code",
   "execution_count": null,
   "id": "fd6c6f0a",
   "metadata": {},
   "outputs": [],
   "source": []
  }
 ],
 "metadata": {
  "kernelspec": {
   "display_name": "Python 3 (ipykernel)",
   "language": "python",
   "name": "python3"
  },
  "language_info": {
   "codemirror_mode": {
    "name": "ipython",
    "version": 3
   },
   "file_extension": ".py",
   "mimetype": "text/x-python",
   "name": "python",
   "nbconvert_exporter": "python",
   "pygments_lexer": "ipython3",
   "version": "3.8.10"
  }
 },
 "nbformat": 4,
 "nbformat_minor": 5
}
