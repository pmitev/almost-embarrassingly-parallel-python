{
 "cells": [
  {
   "cell_type": "code",
   "execution_count": 1,
   "id": "30e9ff8f-edaa-4da3-b496-2ba31885dbd5",
   "metadata": {},
   "outputs": [
    {
     "name": "stdout",
     "output_type": "stream",
     "text": [
      "Starting 4 engines with <class 'ipyparallel.cluster.launcher.LocalEngineSetLauncher'>\n"
     ]
    },
    {
     "data": {
      "application/vnd.jupyter.widget-view+json": {
       "model_id": "a8061ea014094944bdaedf6d4617d166",
       "version_major": 2,
       "version_minor": 0
      },
      "text/plain": [
       "  0%|          | 0/4 [00:00<?, ?engine/s]"
      ]
     },
     "metadata": {},
     "output_type": "display_data"
    },
    {
     "name": "stdout",
     "output_type": "stream",
     "text": [
      "Number of engines: [0, 1, 2, 3] | Buffer  4\n",
      "importing numpy on engine(s)\n",
      "importing sleep from time on engine(s)\n",
      "Frame 100 | Buffer full 0, waiting... \n",
      "Done.\n"
     ]
    }
   ],
   "source": [
    "import numpy as np\n",
    "import matplotlib.pyplot as plt\n",
    "from time import sleep\n",
    "\n",
    "import ipyparallel as ipp\n",
    "\n",
    "rc= ipp.Cluster(n=4,cluster_id='mycluster').start_and_connect_sync() # start 4 processes on the local computer\n",
    "\n",
    "lview = rc.load_balanced_view() # default load-balanced view\n",
    "buffer= len(rc.ids)*1           # We need buffer to feed the processes, large datasets might run out of memory\n",
    "print(\"Number of engines:\",rc.ids, \"| Buffer \", buffer)\n",
    "\n",
    "n= 50; m=100;            # Shape of the data input\n",
    "frames= 100;               # Number of data inputs to generate\n",
    "N_workers= 5;            # Numbers of instances to work on the analysis\n",
    "\n",
    "\n",
    "with rc[:].sync_imports(): # Import modules on the engines\n",
    "    import numpy\n",
    "    from time import sleep\n",
    "    \n",
    "    \n",
    "# Simple analysis =================================================================\n",
    "def analyze(data):\n",
    "    sums= numpy.zeros(data.shape[0]);\n",
    "    for i in range(data.shape[0]):\n",
    "        sum= 0;\n",
    "        for j in range(data.shape[1]):\n",
    "            sum= sum + data[i,j];\n",
    "        sums[i]= sum;\n",
    "    sleep(1);         # Let's slow it down artificially\n",
    "    return sums;\n",
    "\n",
    "#class for callbacks ===============================================================       \n",
    "class Collect_data:\n",
    "    def __init__(self):\n",
    "        self.count= 0\n",
    "        self.histograms= np.zeros(n)\n",
    "    \n",
    "    #the callback function\n",
    "    def add(self, histograms):\n",
    "        # we must use lock here because += is not atomic\n",
    "        self.count+= 1\n",
    "        self.histograms= np.add(self.histograms, histograms.result())\n",
    "\n",
    "collect_data= Collect_data()\n",
    "\n",
    "# ==================================================================================\n",
    "# MAIN\n",
    "# ==================================================================================\n",
    "# Generate random data, analyze, and collect =======================================\n",
    "frame= 0\n",
    "while True:\n",
    "    if frame >= frames:\n",
    "        break\n",
    "    \n",
    "    if frame%10 == 0:\n",
    "        np.save(\"analized\",collect_data.histograms);\n",
    "    \n",
    "    while lview.queue_status()[\"unassigned\"] > buffer:   # Wait for emty buffer \n",
    "        print(f'Frame {frame} | Buffer full {lview.queue_status()[\"unassigned\"]}, waiting... \\r',end='')\n",
    "        sleep(1)\n",
    "        \n",
    "    frame+= 1\n",
    "    task= lview.apply_async(analyze, np.random.rand(n,m))\n",
    "    task.add_done_callback(collect_data.add)\n",
    "\n",
    "\n",
    "lview.wait(); # Wait to finish\n",
    "\n",
    "# Done\n",
    "print(f'Frame {frame} | Buffer full {lview.queue_status()[\"unassigned\"]}, waiting... \\r')\n",
    "print('Done.')\n",
    "np.save(\"analized\",collect_data.histograms);\n",
    "rc.shutdown(hub=True)"
   ]
  },
  {
   "cell_type": "code",
   "execution_count": 2,
   "id": "54a7a41c-18ad-4121-86c1-071b207811b6",
   "metadata": {},
   "outputs": [
    {
     "data": {
      "image/png": "[encoded data removed]",
      "text/plain": [
       "<Figure size 432x288 with 1 Axes>"
      ]
     },
     "metadata": {
      "needs_background": "light"
     },
     "output_type": "display_data"
    },
    {
     "name": "stdout",
     "output_type": "stream",
     "text": [
      "engine set stopped 1654768519: {'engines': {'3': {'exit_code': 0, 'pid': 10474, 'identifier': '3'}, '2': {'exit_code': 0, 'pid': 10471, 'identifier': '2'}, '1': {'exit_code': 0, 'pid': 10468, 'identifier': '1'}, '0': {'exit_code': 0, 'pid': 10466, 'identifier': '0'}}, 'exit_code': 0}\n",
      "Controller stopped: {'exit_code': 0, 'pid': 10422, 'identifier': 'ipcontroller-mycluster-10393'}\n"
     ]
    }
   ],
   "source": [
    "histograms_from_file= np.load(\"analized.npy\")\n",
    "plt.hist(histograms_from_file/frames, bins='auto', alpha=0.8 ,rwidth=0.85);"
   ]
  },
  {
   "cell_type": "code",
   "execution_count": null,
   "id": "84cf09e7-110f-4242-bc4c-4f6574d2a3ce",
   "metadata": {},
   "outputs": [],
   "source": []
  },
  {
   "cell_type": "code",
   "execution_count": null,
   "id": "f7c449e1-4b7e-428c-bb68-a604230b493d",
   "metadata": {},
   "outputs": [],
   "source": []
  },
  {
   "cell_type": "code",
   "execution_count": null,
   "id": "4231024a-c334-4aa5-91d3-0fc6fd2c241a",
   "metadata": {},
   "outputs": [],
   "source": []
  },
  {
   "cell_type": "code",
   "execution_count": null,
   "id": "ab3ccc2e-253a-4672-960b-8253e7f6bcd6",
   "metadata": {},
   "outputs": [],
   "source": []
  },
  {
   "cell_type": "code",
   "execution_count": null,
   "id": "b960aefb-9205-4f25-9a85-e672833239c9",
   "metadata": {},
   "outputs": [],
   "source": []
  },
  {
   "cell_type": "code",
   "execution_count": null,
   "id": "f019af20-00f3-4ede-a312-e5ecc71274ac",
   "metadata": {},
   "outputs": [],
   "source": []
  },
  {
   "cell_type": "code",
   "execution_count": null,
   "id": "25e16fbd-ec0a-4ad5-9935-f9b1404fafcf",
   "metadata": {},
   "outputs": [],
   "source": []
  }
 ],
 "metadata": {
  "kernelspec": {
   "display_name": "Python 3 (ipykernel)",
   "language": "python",
   "name": "python3"
  },
  "language_info": {
   "codemirror_mode": {
    "name": "ipython",
    "version": 3
   },
   "file_extension": ".py",
   "mimetype": "text/x-python",
   "name": "python",
   "nbconvert_exporter": "python",
   "pygments_lexer": "ipython3",
   "version": "3.8.10"
  }
 },
 "nbformat": 4,
 "nbformat_minor": 5
}
